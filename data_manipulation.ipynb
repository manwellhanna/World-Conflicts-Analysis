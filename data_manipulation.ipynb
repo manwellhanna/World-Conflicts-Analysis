{
 "cells": [
  {
   "cell_type": "code",
   "execution_count": 6,
   "metadata": {
    "collapsed": true
   },
   "outputs": [
    {
     "data": {
      "text/plain": "                   Country  Food Insecurity  Natural Disasters  \\\n0                    Niger              5.0               5.00   \n1    São Tomé and Príncipe              5.0               4.74   \n2              South Sudan              5.0               4.55   \n3                  Somalia              5.0               4.54   \n4                 Ethiopia              5.0               4.66   \n..                     ...              ...                ...   \n216             San Marino              1.0               1.00   \n217               Slovenia              1.0               1.00   \n218                 Sweden              1.0               1.00   \n219              Greenland              1.0               1.00   \n220                 Kosovo              1.0               1.00   \n\n     Demographic Pressure  Water Risk  \n0                    5.00        4.92  \n1                    5.00        5.00  \n2                    5.00        5.00  \n3                    5.00        5.00  \n4                    4.67        5.00  \n..                    ...         ...  \n216                  1.00        1.00  \n217                  1.00        1.00  \n218                  1.00        1.00  \n219                  1.00        1.00  \n220                  1.00        1.00  \n\n[221 rows x 5 columns]",
      "text/html": "<div>\n<style scoped>\n    .dataframe tbody tr th:only-of-type {\n        vertical-align: middle;\n    }\n\n    .dataframe tbody tr th {\n        vertical-align: top;\n    }\n\n    .dataframe thead th {\n        text-align: right;\n    }\n</style>\n<table border=\"1\" class=\"dataframe\">\n  <thead>\n    <tr style=\"text-align: right;\">\n      <th></th>\n      <th>Country</th>\n      <th>Food Insecurity</th>\n      <th>Natural Disasters</th>\n      <th>Demographic Pressure</th>\n      <th>Water Risk</th>\n    </tr>\n  </thead>\n  <tbody>\n    <tr>\n      <th>0</th>\n      <td>Niger</td>\n      <td>5.0</td>\n      <td>5.00</td>\n      <td>5.00</td>\n      <td>4.92</td>\n    </tr>\n    <tr>\n      <th>1</th>\n      <td>São Tomé and Príncipe</td>\n      <td>5.0</td>\n      <td>4.74</td>\n      <td>5.00</td>\n      <td>5.00</td>\n    </tr>\n    <tr>\n      <th>2</th>\n      <td>South Sudan</td>\n      <td>5.0</td>\n      <td>4.55</td>\n      <td>5.00</td>\n      <td>5.00</td>\n    </tr>\n    <tr>\n      <th>3</th>\n      <td>Somalia</td>\n      <td>5.0</td>\n      <td>4.54</td>\n      <td>5.00</td>\n      <td>5.00</td>\n    </tr>\n    <tr>\n      <th>4</th>\n      <td>Ethiopia</td>\n      <td>5.0</td>\n      <td>4.66</td>\n      <td>4.67</td>\n      <td>5.00</td>\n    </tr>\n    <tr>\n      <th>...</th>\n      <td>...</td>\n      <td>...</td>\n      <td>...</td>\n      <td>...</td>\n      <td>...</td>\n    </tr>\n    <tr>\n      <th>216</th>\n      <td>San Marino</td>\n      <td>1.0</td>\n      <td>1.00</td>\n      <td>1.00</td>\n      <td>1.00</td>\n    </tr>\n    <tr>\n      <th>217</th>\n      <td>Slovenia</td>\n      <td>1.0</td>\n      <td>1.00</td>\n      <td>1.00</td>\n      <td>1.00</td>\n    </tr>\n    <tr>\n      <th>218</th>\n      <td>Sweden</td>\n      <td>1.0</td>\n      <td>1.00</td>\n      <td>1.00</td>\n      <td>1.00</td>\n    </tr>\n    <tr>\n      <th>219</th>\n      <td>Greenland</td>\n      <td>1.0</td>\n      <td>1.00</td>\n      <td>1.00</td>\n      <td>1.00</td>\n    </tr>\n    <tr>\n      <th>220</th>\n      <td>Kosovo</td>\n      <td>1.0</td>\n      <td>1.00</td>\n      <td>1.00</td>\n      <td>1.00</td>\n    </tr>\n  </tbody>\n</table>\n<p>221 rows × 5 columns</p>\n</div>"
     },
     "execution_count": 6,
     "metadata": {},
     "output_type": "execute_result"
    }
   ],
   "source": [
    "import pandas as pd\n",
    "import numpy as np\n",
    "\n",
    "ecological_threat_report = pd.read_excel(\"ETR_Public_Release_Data_2023.xlsx\", sheet_name='Indicators')\n",
    "ecological_threat_report"
   ]
  },
  {
   "cell_type": "code",
   "execution_count": null,
   "outputs": [],
   "source": [],
   "metadata": {
    "collapsed": false
   }
  }
 ],
 "metadata": {
  "kernelspec": {
   "display_name": "Python 3",
   "language": "python",
   "name": "python3"
  },
  "language_info": {
   "codemirror_mode": {
    "name": "ipython",
    "version": 2
   },
   "file_extension": ".py",
   "mimetype": "text/x-python",
   "name": "python",
   "nbconvert_exporter": "python",
   "pygments_lexer": "ipython2",
   "version": "2.7.6"
  }
 },
 "nbformat": 4,
 "nbformat_minor": 0
}
